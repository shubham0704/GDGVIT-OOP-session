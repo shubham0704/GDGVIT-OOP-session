{
 "cells": [
  {
   "cell_type": "markdown",
   "metadata": {},
   "source": [
    "## Inheritance example - "
   ]
  },
  {
   "cell_type": "code",
   "execution_count": null,
   "metadata": {
    "collapsed": true
   },
   "outputs": [],
   "source": [
    "class Person:\n",
    "\n",
    "    def __init__(self, first, last, age):\n",
    "        self.firstname = first\n",
    "        self.lastname = last\n",
    "        self.age = age\n",
    "\n",
    "    def __str__(self):\n",
    "        return self.firstname + \" \" + self.lastname + \", \" + str(self.age)\n",
    "\n",
    "class Employee(Person):\n",
    "\n",
    "    def __init__(self, first, last, age, staffnum):\n",
    "        super().__init__(first, last, age)\n",
    "        self.staffnumber = staffnum\n",
    "\n",
    "    def __str__(self):\n",
    "        return super().__str__() + \", \" +  self.staffnumber"
   ]
  },
  {
   "cell_type": "markdown",
   "metadata": {},
   "source": [
    "In the above example we define person class which is followed by Employee class.<br>\n",
    "Notice the inheritance pattern - \n",
    "\n",
    "```\n",
    "class Employee(Person):\n",
    "```\n",
    "\n",
    "This is how inhertance happens in python\n",
    "\n",
    "``` \n",
    "class Base(Super1, Super2, ...):\n",
    "\n",
    "```\n",
    "Another thing we must make sure is to initialize the \n",
    "constructor of inherited class into the base class\n",
    "\n",
    "For this check the lines - \n",
    "\n",
    "```\n",
    "def __init__(self, first, last, age, staffnum):\n",
    "        super().__init__(first, last, age)\n",
    "```\n",
    "\n",
    "We need to pass the parameter required to class Person\n",
    "in order to use its attributes\n",
    "\n",
    "``super()`` looks for all the attributes need to be initialized\n",
    "or simply calls all the __init__ methods of the inherited classes"
   ]
  },
  {
   "cell_type": "markdown",
   "metadata": {},
   "source": [
    "## Function Overriding - "
   ]
  },
  {
   "cell_type": "code",
   "execution_count": 7,
   "metadata": {},
   "outputs": [
    {
     "name": "stdout",
     "output_type": "stream",
     "text": [
      "No!\n",
      "No!\n"
     ]
    }
   ],
   "source": [
    "class Papa:\n",
    "    def __init__(self):\n",
    "        pass\n",
    "    def decision(self):\n",
    "        return \"No!\"\n",
    "    \n",
    "class ObedientSon(Papa):\n",
    "    def __init__(self):\n",
    "        super().__init__()\n",
    "\n",
    "print (Papa().decision())\n",
    "print (ObedientSon().decision())"
   ]
  },
  {
   "cell_type": "code",
   "execution_count": 8,
   "metadata": {},
   "outputs": [
    {
     "name": "stdout",
     "output_type": "stream",
     "text": [
      "No!\n",
      "Yes!\n"
     ]
    }
   ],
   "source": [
    "class Papa:\n",
    "    def __init__(self):\n",
    "        pass\n",
    "    def decision(self):\n",
    "        return \"No!\"\n",
    "    \n",
    "class ObedientSon(Papa):\n",
    "    def __init__(self):\n",
    "        super().__init__()\n",
    "    def decision(self):\n",
    "        return \"Yes!\"\n",
    "\n",
    "print (Papa().decision())\n",
    "print (Son().decision())"
   ]
  },
  {
   "cell_type": "code",
   "execution_count": null,
   "metadata": {
    "collapsed": true
   },
   "outputs": [],
   "source": []
  }
 ],
 "metadata": {
  "kernelspec": {
   "display_name": "Python 3",
   "language": "python",
   "name": "python3"
  },
  "language_info": {
   "codemirror_mode": {
    "name": "ipython",
    "version": 3
   },
   "file_extension": ".py",
   "mimetype": "text/x-python",
   "name": "python",
   "nbconvert_exporter": "python",
   "pygments_lexer": "ipython3",
   "version": "3.5.2"
  }
 },
 "nbformat": 4,
 "nbformat_minor": 2
}
